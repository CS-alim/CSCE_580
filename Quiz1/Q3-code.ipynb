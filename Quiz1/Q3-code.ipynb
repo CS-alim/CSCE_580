{
 "cells": [
  {
   "cell_type": "code",
   "execution_count": null,
   "id": "309a8cf2",
   "metadata": {},
   "outputs": [],
   "source": [
    "\n",
    "import pandas as pd\n",
    "import numpy as np\n",
    "import matplotlib.pyplot as plt\n",
    "\n",
    "from sklearn.preprocessing import StandardScaler\n",
    "from sklearn.cluster import KMeans, AgglomerativeClustering\n",
    "from sklearn.metrics import silhouette_score\n",
    "\n",
    "PATH = \"cad_data.csv\"\n",
    "\n",
    "df = pd.read_csv(PATH)\n",
    "raw = df.copy()\n",
    "\n",
    "for col in [\"DISPATCH CREATED DATE\", \"ALARM DATE TIME\", \"CALL COMPLETE\"]:\n",
    "    df[col] = pd.to_datetime(df[col], errors=\"coerce\")\n",
    "\n",
    "df.insert(0, \"CASE_ID\", np.arange(1, len(df)+1))\n",
    "\n",
    "def count_units(s):\n",
    "    if pd.isna(s) or str(s).strip() == \"\":\n",
    "        return 0\n",
    "    parts = [p.strip() for p in str(s).split(\",\") if p.strip()]\n",
    "    return len(parts)\n",
    "\n",
    "df[\"UNITS_COUNT\"] = raw[\"DISPATCH UNIT\"].apply(count_units)\n",
    "\n",
    "def hour_to_shift(h):\n",
    "    if pd.isna(h):\n",
    "        return np.nan\n",
    "    if 0 <= h <= 7:\n",
    "        return \"A\"\n",
    "    if 8 <= h <= 15:\n",
    "        return \"B\"\n",
    "    return \"C\"\n",
    "\n",
    "df[\"ALARM_HOUR\"] = df[\"ALARM DATE TIME\"].dt.hour\n",
    "df[\"SHIFT_IMPUTED\"] = df[\"ALARM_HOUR\"].apply(hour_to_shift)\n",
    "df[\"SHIFT_CLEAN\"]   = df[\"SHIFT\"].fillna(df[\"SHIFT_IMPUTED\"])\n",
    "\n",
    "df[\"RESOLVE_MIN\"] = (df[\"CALL COMPLETE\"] - df[\"ALARM DATE TIME\"]).dt.total_seconds()/60\n",
    "df[\"END_TO_CREATE_MIN\"] = (df[\"CALL COMPLETE\"] - df[\"DISPATCH CREATED DATE\"]).dt.total_seconds()/60\n",
    "\n",
    "df[\"DOW\"]  = df[\"ALARM DATE TIME\"].dt.day_name()\n",
    "df[\"HOUR\"] = df[\"ALARM DATE TIME\"].dt.hour\n"
   ]
  },
  {
   "cell_type": "code",
   "execution_count": null,
   "id": "14981ec7",
   "metadata": {
    "vscode": {
     "languageId": "plaintext"
    }
   },
   "outputs": [],
   "source": [
    "a. Data Issues"
   ]
  },
  {
   "cell_type": "code",
   "execution_count": null,
   "id": "6a4082c3",
   "metadata": {},
   "outputs": [],
   "source": [
    "\n",
    "# a.1 Range of data\n",
    "date_min = df[[\"DISPATCH CREATED DATE\",\"ALARM DATE TIME\",\"CALL COMPLETE\"]].min().min()\n",
    "date_max = df[[\"DISPATCH CREATED DATE\",\"ALARM DATE TIME\",\"CALL COMPLETE\"]].max().max()\n",
    "print(\"a.1) Earliest:\", date_min, \" Latest:\", date_max)\n",
    "\n",
    "# a.2 Missing % per column\n",
    "missing_pct = raw.isna().mean().mul(100).round(2)\n",
    "print(\"\\na.2) % Missing per column:\\n\", missing_pct.to_string())\n",
    "\n",
    "# a.3 Notes on issues\n",
    "print(\"\"\"\n",
    "a.3) Issues found:\n",
    "- Time columns were strings -> converted to datetime with coercion.\n",
    "- DISPATCH UNIT contains comma-separated lists with inconsistent spacing -> standardized and counted as UNITS_COUNT.\n",
    "- SHIFT missing (~3%) -> imputed from ALARM_HOUR (A=0–7, B=8–15, C=16–23) into SHIFT_CLEAN.\n",
    "- Some rows lack ALARM or CALL COMPLETE timestamps -> excluded only for metrics requiring durations.\n",
    "- Added sequential CASE_ID for analysis stability.\n",
    "\"\"\")\n",
    "\n",
    "# a.4 Strategy already applied above. Save cleaned file for reproducibility.\n",
    "out_path = \"/mnt/data/cad_cleaned_analysis_ready.csv\"\n",
    "df.to_csv(out_path, index=False)\n",
    "print(\"a.4) Cleaned dataset saved to:\", out_path)\n"
   ]
  },
  {
   "cell_type": "code",
   "execution_count": null,
   "id": "58c24c7b",
   "metadata": {
    "vscode": {
     "languageId": "plaintext"
    }
   },
   "outputs": [],
   "source": [
    "b. Exploratory Data Analysis"
   ]
  },
  {
   "cell_type": "code",
   "execution_count": null,
   "id": "48a8cd11",
   "metadata": {},
   "outputs": [],
   "source": [
    "\n",
    "# b.1 Average resolve time (CALL COMPLETE - ALARM)\n",
    "resolve_valid = df.dropna(subset=[\"RESOLVE_MIN\"])\n",
    "avg_resolve_min = resolve_valid[\"RESOLVE_MIN\"].mean()\n",
    "print(f\"b.1) Average resolve time: {avg_resolve_min:.2f} minutes (n={len(resolve_valid)})\")\n",
    "\n",
    "# b.2 Average number of units dispatched\n",
    "avg_units = df[\"UNITS_COUNT\"].mean()\n",
    "print(f\"b.2) Average units dispatched: {avg_units:.2f}\")\n",
    "\n",
    "# b.3 Busiest shift (by number of incidents)\n",
    "shift_counts = df[\"SHIFT_CLEAN\"].value_counts()\n",
    "busiest = shift_counts.idxmax()\n",
    "print(\"b.3) Busiest shift:\", busiest)\n",
    "print(shift_counts)\n",
    "\n",
    "# b.4 Hour x Day matrix with totals\n",
    "pivot = pd.pivot_table(\n",
    "    df.dropna(subset=[\"DOW\",\"HOUR\"]),\n",
    "    index=\"HOUR\", columns=\"DOW\", values=\"CASE_ID\", aggfunc=\"count\", fill_value=0\n",
    ").sort_index()\n",
    "\n",
    "dow_order = [\"Monday\",\"Tuesday\",\"Wednesday\",\"Thursday\",\"Friday\",\"Saturday\",\"Sunday\"]\n",
    "pivot = pivot.reindex(columns=dow_order)\n",
    "\n",
    "pivot[\"TOTAL\"] = pivot.sum(axis=1)\n",
    "totals_row = pivot.sum(axis=0).to_frame().T\n",
    "totals_row.index = [\"TOTAL\"]\n",
    "matrix_with_totals = pd.concat([pivot, totals_row])\n",
    "matrix_with_totals\n"
   ]
  },
  {
   "cell_type": "code",
   "execution_count": null,
   "id": "14448982",
   "metadata": {},
   "outputs": [],
   "source": [
    "plt.figure(figsize=(10,5))\n",
    "plt.plot(pivot.index, pivot[\"TOTAL\"], marker=\"o\")\n",
    "plt.title(\"Total Alarms by Hour of Day\")\n",
    "plt.xlabel(\"Hour\")\n",
    "plt.ylabel(\"Count of Alarms\")\n",
    "plt.tight_layout()\n",
    "plt.show()\n"
   ]
  },
  {
   "cell_type": "code",
   "execution_count": null,
   "id": "69a282e7",
   "metadata": {
    "vscode": {
     "languageId": "plaintext"
    }
   },
   "outputs": [],
   "source": [
    "c. unsupervised learning"
   ]
  },
  {
   "cell_type": "code",
   "execution_count": null,
   "id": "b5f1a6c5",
   "metadata": {},
   "outputs": [],
   "source": [
    "\n",
    "# Feature engineering for clustering\n",
    "model_df = df.dropna(subset=[\"RESOLVE_MIN\",\"HOUR\"]).copy()\n",
    "model_df[\"HOUR_SIN\"] = np.sin(2*np.pi*model_df[\"HOUR\"]/24)\n",
    "model_df[\"HOUR_COS\"] = np.cos(2*np.pi*model_df[\"HOUR\"]/24)\n",
    "\n",
    "X = model_df[[\"UNITS_COUNT\",\"RESOLVE_MIN\",\"HOUR_SIN\",\"HOUR_COS\"]].values\n",
    "\n",
    "scaler = StandardScaler()\n",
    "X_scaled = scaler.fit_transform(X)\n",
    "\n",
    "# Method 1: KMeans\n",
    "kmeans = KMeans(n_clusters=3, random_state=42, n_init=10)\n",
    "k_labels = kmeans.fit_predict(X_scaled)\n",
    "k_sil = silhouette_score(X_scaled, k_labels)\n",
    "\n",
    "# Method 2: Agglomerative\n",
    "agg = AgglomerativeClustering(n_clusters=3, linkage=\"ward\")\n",
    "a_labels = agg.fit_predict(X_scaled)\n",
    "a_sil = silhouette_score(X_scaled, a_labels)\n",
    "\n",
    "print(f\"c.1) Silhouette — KMeans: {k_sil:.3f}, Agglomerative: {a_sil:.3f}\")\n",
    "best = \"KMeans\" if k_sil >= a_sil else \"Agglomerative\"\n",
    "print(\"Best method:\", best)\n",
    "\n",
    "best_labels = k_labels if best==\"KMeans\" else a_labels\n",
    "model_df[\"CLUSTER\"] = best_labels\n",
    "\n",
    "cluster_summary = model_df.groupby(\"CLUSTER\").agg(\n",
    "    UNITS_MEAN=(\"UNITS_COUNT\",\"mean\"),\n",
    "    RESOLVE_MIN_MEAN=(\"RESOLVE_MIN\",\"mean\"),\n",
    "    HOUR_MEDIAN=(\"HOUR\",\"median\"),\n",
    "    COUNT=(\"CASE_ID\",\"count\")\n",
    ").round(2).sort_index()\n",
    "\n",
    "cluster_summary\n"
   ]
  },
  {
   "cell_type": "code",
   "execution_count": null,
   "id": "b3d34891",
   "metadata": {},
   "outputs": [],
   "source": [
    "\n",
    "# Scatter: Units vs Resolve Time colored by cluster\n",
    "plt.figure(figsize=(8,6))\n",
    "plt.scatter(model_df[\"UNITS_COUNT\"], model_df[\"RESOLVE_MIN\"], c=model_df[\"CLUSTER\"], s=18)\n",
    "plt.xlabel(\"Units Dispatched\")\n",
    "plt.ylabel(\"Resolve Time (min)\")\n",
    "plt.title(\"Clusters: Units vs Resolve Time\")\n",
    "plt.tight_layout()\n",
    "plt.show()\n"
   ]
  },
  {
   "cell_type": "code",
   "execution_count": null,
   "id": "2ad8a494",
   "metadata": {},
   "outputs": [],
   "source": [
    "\n",
    "# Scatter: Hour vs Resolve Time colored by cluster\n",
    "plt.figure(figsize=(8,6))\n",
    "plt.scatter(model_df[\"HOUR\"], model_df[\"RESOLVE_MIN\"], c=model_df[\"CLUSTER\"], s=18)\n",
    "plt.xlabel(\"Hour of Day\")\n",
    "plt.ylabel(\"Resolve Time (min)\")\n",
    "plt.title(\"Clusters: Hour vs Resolve Time\")\n",
    "plt.tight_layout()\n",
    "plt.show()\n"
   ]
  }
 ],
 "metadata": {
  "language_info": {
   "name": "python"
  }
 },
 "nbformat": 4,
 "nbformat_minor": 5
}
