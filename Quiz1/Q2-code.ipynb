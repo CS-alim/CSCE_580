{
 "cells": [
  {
   "cell_type": "code",
   "execution_count": null,
   "id": "52f68826",
   "metadata": {},
   "outputs": [],
   "source": [
    "# Imports and configuration\n",
    "import re\n",
    "from collections import Counter\n",
    "import matplotlib.pyplot as plt\n",
    "import pandas as pd\n",
    "\n",
    "stop_words = set([\"i\", \"me\", \"my\", \"myself\", \"we\", \"our\", \"ours\", \"ourselves\", \"you\", \"your\", \"yours\", \"yourself\", \"yourselves\", \"he\", \"him\", \"his\", \"himself\", \"she\", \"her\", \"hers\", \"herself\", \"it\", \"its\", \"itself\", \"they\", \"them\", \"their\", \"theirs\", \"themselves\", \"what\", \"which\", \"who\", \"whom\", \"this\", \"that\", \"these\", \"those\", \"am\", \"is\", \"are\", \"was\", \"were\", \"be\", \"been\", \"being\", \"have\", \"has\", \"had\", \"having\", \"do\", \"does\", \"did\", \"doing\", \"a\", \"an\", \"the\", \"and\", \"but\", \"if\", \"or\", \"because\", \"as\", \"until\", \"while\", \"of\", \"at\", \"by\", \"for\", \"with\", \"about\", \"against\", \"between\", \"into\", \"through\", \"during\", \"before\", \"after\", \"above\", \"below\", \"to\", \"from\", \"up\", \"down\", \"in\", \"out\", \"on\", \"off\", \"over\", \"under\", \"again\", \"further\", \"then\", \"once\", \"here\", \"there\", \"when\", \"where\", \"why\", \"how\", \"all\", \"any\", \"both\", \"each\", \"few\", \"more\", \"most\", \"other\", \"some\", \"such\", \"no\", \"nor\", \"not\", \"only\", \"own\", \"same\", \"so\", \"than\", \"too\", \"very\", \"s\", \"t\", \"can\", \"will\", \"just\", \"don\", \"should\", \"now\"])\n",
    "len(stop_words)"
   ]
  },
  {
   "cell_type": "code",
   "execution_count": null,
   "id": "1d722157",
   "metadata": {},
   "outputs": [],
   "source": [
    "with open(\"resume.txt\", \"r\", encoding=\"utf-8\") as f:\n",
    "    resume_text = f.read()\n",
    "\n",
    "print(\"Loaded resume text (first 400 chars):\")\n",
    "print(resume_text[:400] + (\"...\" if len(resume_text) > 400 else \"\"))"
   ]
  },
  {
   "cell_type": "markdown",
   "id": "4fce05dc",
   "metadata": {},
   "source": [
    "a. Builds resume_words and plot top 20 "
   ]
  },
  {
   "cell_type": "code",
   "execution_count": null,
   "id": "f1ee380b",
   "metadata": {},
   "outputs": [],
   "source": [
    "tokens = re.findall(r\"[a-zA-Z']+\", resume_text.lower())\n",
    "\n",
    "resume_words = tokens\n",
    "\n",
    "from collections import Counter\n",
    "word_counts = Counter(resume_words)\n",
    "top20 = word_counts.most_common(20)\n",
    "\n",
    "import pandas as pd\n",
    "df_top20 = pd.DataFrame(top20, columns=[\"word\", \"count\"])\n",
    "\n",
    "import matplotlib.pyplot as plt\n",
    "plt.figure()\n",
    "plt.bar(df_top20[\"word\"], df_top20[\"count\"])\n",
    "plt.xticks(rotation=45, ha=\"right\")\n",
    "plt.title(\"Top 20 Words in Resume (before removing stop words)\")\n",
    "plt.xlabel(\"Word\")\n",
    "plt.ylabel(\"Count\")\n",
    "plt.tight_layout()\n",
    "plt.show()\n",
    "\n",
    "df_top20"
   ]
  },
  {
   "cell_type": "markdown",
   "id": "11a8faa5",
   "metadata": {},
   "source": [
    "b. Removes the stop words and specific_words then plots the top 20"
   ]
  },
  {
   "cell_type": "code",
   "execution_count": null,
   "id": "082a85b1",
   "metadata": {},
   "outputs": [],
   "source": [
    "specific_words = [w for w in resume_words if w not in stop_words]\n",
    "spec_counts = Counter(specific_words)\n",
    "spec_top20 = spec_counts.most_common(20)\n",
    "df_spec_top20 = pd.DataFrame(spec_top20, columns=[\"word\", \"count\"])\n",
    "\n",
    "plt.figure()\n",
    "plt.bar(df_spec_top20[\"word\"], df_spec_top20[\"count\"])\n",
    "plt.xticks(rotation=45, ha=\"right\")\n",
    "plt.title(\"Top 20 Specific Words (after removing stop words)\")\n",
    "plt.xlabel(\"Word\")\n",
    "plt.ylabel(\"Count\")\n",
    "plt.tight_layout()\n",
    "plt.show()\n",
    "\n",
    "df_spec_top20"
   ]
  },
  {
   "cell_type": "code",
   "execution_count": null,
   "id": "cde61a6a",
   "metadata": {
    "vscode": {
     "languageId": "plaintext"
    }
   },
   "outputs": [],
   "source": [
    "c. analysis. After seeing what words are left it shows the key words of my resume. It took a lot of words from my skills and from my experience. It shows like artificial, software, intelligence, intern, programming, stuff like that and it really simplifies my resume basically into a couple of words. "
   ]
  },
  {
   "cell_type": "code",
   "execution_count": null,
   "id": "f0613a13",
   "metadata": {},
   "outputs": [],
   "source": [
    "pd.DataFrame(top20, columns=[\"word\",\"count\"]).to_csv(\"top20_before_stopwords.csv\", index=False)\n",
    "pd.DataFrame(spec_top20, columns=[\"word\",\"count\"]).to_csv(\"top20_after_stopwords.csv\", index=False)\n",
    "print(\"Saved: top20_before_stopwords.csv and top20_after_stopwords.csv\")\n"
   ]
  },
  {
   "cell_type": "code",
   "execution_count": null,
   "id": "dfbfa853",
   "metadata": {
    "vscode": {
     "languageId": "plaintext"
    }
   },
   "outputs": [],
   "source": [
    "Task 2"
   ]
  },
  {
   "cell_type": "code",
   "execution_count": null,
   "id": "aeafbffa",
   "metadata": {},
   "outputs": [],
   "source": [
    "import os\n",
    "from collections import Counter\n",
    "import matplotlib.pyplot as plt\n",
    "import pandas as pd\n",
    "import re\n",
    "\n",
    "RESUME_FOLDER = \"resumes\"  \n",
    "\n",
    "all_text = \"\"\n",
    "for file in os.listdir(RESUME_FOLDER):\n",
    "    if file.endswith(\".txt\"):\n",
    "        with open(os.path.join(RESUME_FOLDER, file), \"r\", encoding=\"utf-8\") as f:\n",
    "            all_text += f.read().lower() + \" \"\n",
    "\n",
    "resume_words = re.findall(r\"[a-zA-Z']+\", all_text)\n",
    "\n",
    "word_counts = Counter(resume_words)\n",
    "top20 = word_counts.most_common(20)\n",
    "df_top20 = pd.DataFrame(top20, columns=[\"word\",\"count\"])\n",
    "\n",
    "plt.figure()\n",
    "plt.bar(df_top20[\"word\"], df_top20[\"count\"])\n",
    "plt.xticks(rotation=45, ha=\"right\")\n",
    "plt.title(\"Top 20 Words Across All Resumes (before stopwords)\")\n",
    "plt.xlabel(\"Word\")\n",
    "plt.ylabel(\"Count\")\n",
    "plt.tight_layout()\n",
    "plt.show()\n"
   ]
  },
  {
   "cell_type": "code",
   "execution_count": null,
   "id": "342da951",
   "metadata": {
    "vscode": {
     "languageId": "plaintext"
    }
   },
   "outputs": [],
   "source": [
    "remove stop words and plot again"
   ]
  },
  {
   "cell_type": "code",
   "execution_count": null,
   "id": "e8c9eb32",
   "metadata": {},
   "outputs": [],
   "source": [
    "specific_words = [w for w in resume_words if w not in stop_words]\n",
    "\n",
    "spec_counts = Counter(specific_words)\n",
    "spec_top20 = spec_counts.most_common(20)\n",
    "df_spec_top20 = pd.DataFrame(spec_top20, columns=[\"word\",\"count\"])\n",
    "\n",
    "plt.figure()\n",
    "plt.bar(df_spec_top20[\"word\"], df_spec_top20[\"count\"])\n",
    "plt.xticks(rotation=45, ha=\"right\")\n",
    "plt.title(\"Top 20 Words Across All Resumes (after stopwords)\")\n",
    "plt.xlabel(\"Word\")\n",
    "plt.ylabel(\"Count\")\n",
    "plt.tight_layout()\n",
    "plt.show()\n"
   ]
  },
  {
   "cell_type": "code",
   "execution_count": null,
   "id": "a08530bb",
   "metadata": {
    "vscode": {
     "languageId": "plaintext"
    }
   },
   "outputs": [],
   "source": [
    "\n",
    "After removing the stop_words it really reveals a lot more about the class. It highlights the different skills and\n",
    " common fields everyone has studied in. "
   ]
  },
  {
   "cell_type": "code",
   "execution_count": null,
   "id": "ddccc690",
   "metadata": {
    "vscode": {
     "languageId": "plaintext"
    }
   },
   "outputs": [],
   "source": [
    "Task 3 "
   ]
  },
  {
   "cell_type": "code",
   "execution_count": null,
   "id": "eb072c48",
   "metadata": {},
   "outputs": [],
   "source": [
    "my_specific_words = set([w for w in resume_words if w not in stop_words])  \n",
    "\n",
    "class_specific_words = set(specific_words)\n",
    "\n",
    "unique_words = my_specific_words - class_specific_words\n",
    "print(\"Unique words in my resume:\", unique_words)\n"
   ]
  },
  {
   "cell_type": "code",
   "execution_count": null,
   "id": "57767ff3",
   "metadata": {
    "vscode": {
     "languageId": "plaintext"
    }
   },
   "outputs": [],
   "source": [
    "The words that were unique to me were mainly from my expereineces. Since my past job expereineces were different \n",
    "they are going to have different words. Also a couple words from my projects were different too which is to be expected \n",
    "since not everyone does the same projects."
   ]
  }
 ],
 "metadata": {
  "language_info": {
   "name": "python"
  }
 },
 "nbformat": 4,
 "nbformat_minor": 5
}
